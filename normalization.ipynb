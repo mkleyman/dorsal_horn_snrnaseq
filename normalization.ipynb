{
 "cells": [
  {
   "cell_type": "code",
   "execution_count": 1,
   "id": "f3b717ac",
   "metadata": {},
   "outputs": [],
   "source": [
    "library(Matrix)"
   ]
  },
  {
   "cell_type": "code",
   "execution_count": 8,
   "id": "0821d8a4",
   "metadata": {},
   "outputs": [],
   "source": [
    "P0_exp_mat = readMM(\"../paper_inter_data/P0_singlet_counts.mtx\")\n",
    "P2_exp_mat = readMM(\"../paper_inter_data/P2_singlet_counts.mtx\")\n",
    "P3_exp_mat = readMM(\"../paper_inter_data/P3_singlet_counts.mtx\")"
   ]
  },
  {
   "cell_type": "code",
   "execution_count": 41,
   "id": "d707827e",
   "metadata": {},
   "outputs": [],
   "source": [
    "P0_annot = read.csv(\"../paper_inter_data/P0_singlet_precluster_annot.csv\")\n",
    "P2_annot = read.csv(\"../paper_inter_data/P2_singlet_precluster_annot.csv\")\n",
    "P3_annot = read.csv(\"../paper_inter_data/P3_singlet_precluster_annot.csv\")"
   ]
  },
  {
   "cell_type": "code",
   "execution_count": 42,
   "id": "52b9e75e",
   "metadata": {},
   "outputs": [],
   "source": [
    "P0_annot$sample_short = \"P0\"\n",
    "P0_annot$unique_id = paste(P0_annot$Barcode,P0_annot$sample_short,sep=\"_\")\n",
    "P0_annot$precluster_sample = paste(P0_annot$precluster,P0_annot$sample_short,sep=\"_\")"
   ]
  },
  {
   "cell_type": "code",
   "execution_count": 43,
   "id": "df2aa7b7",
   "metadata": {},
   "outputs": [],
   "source": [
    "P2_annot$sample_short = \"P2\"\n",
    "P2_annot$unique_id = paste(P2_annot$Barcode,P2_annot$sample_short,sep=\"_\")\n",
    "P2_annot$precluster_sample = paste(P2_annot$precluster,P2_annot$sample_short,sep=\"_\")\n",
    "\n",
    "P3_annot$sample_short = \"P3\"\n",
    "P3_annot$unique_id = paste(P3_annot$Barcode,P3_annot$sample_short,sep=\"_\")\n",
    "P3_annot$precluster_sample = paste(P3_annot$precluster,P3_annot$sample_short,sep=\"_\")"
   ]
  },
  {
   "cell_type": "code",
   "execution_count": 44,
   "id": "8bf712ac",
   "metadata": {},
   "outputs": [],
   "source": [
    "full_annot = rbind(P0_annot,P2_annot,P3_annot)"
   ]
  },
  {
   "cell_type": "code",
   "execution_count": 28,
   "id": "1998d6dd",
   "metadata": {},
   "outputs": [],
   "source": [
    "full_mat = rbind(P0_exp_mat,P2_exp_mat,P3_exp_mat)"
   ]
  },
  {
   "cell_type": "code",
   "execution_count": 29,
   "id": "f1053c93",
   "metadata": {},
   "outputs": [
    {
     "data": {
      "text/html": [
       "<style>\n",
       ".list-inline {list-style: none; margin:0; padding: 0}\n",
       ".list-inline>li {display: inline-block}\n",
       ".list-inline>li:not(:last-child)::after {content: \"\\00b7\"; padding: 0 .5ex}\n",
       "</style>\n",
       "<ol class=list-inline><li>12243</li><li>54894</li></ol>\n"
      ],
      "text/latex": [
       "\\begin{enumerate*}\n",
       "\\item 12243\n",
       "\\item 54894\n",
       "\\end{enumerate*}\n"
      ],
      "text/markdown": [
       "1. 12243\n",
       "2. 54894\n",
       "\n",
       "\n"
      ],
      "text/plain": [
       "[1] 12243 54894"
      ]
     },
     "metadata": {},
     "output_type": "display_data"
    }
   ],
   "source": [
    "dim(full_mat)"
   ]
  },
  {
   "cell_type": "code",
   "execution_count": 30,
   "id": "28421ece",
   "metadata": {},
   "outputs": [
    {
     "name": "stderr",
     "output_type": "stream",
     "text": [
      "Loading required package: SingleCellExperiment\n",
      "\n",
      "Loading required package: SummarizedExperiment\n",
      "\n",
      "Loading required package: MatrixGenerics\n",
      "\n",
      "Loading required package: matrixStats\n",
      "\n",
      "\n",
      "Attaching package: ‘MatrixGenerics’\n",
      "\n",
      "\n",
      "The following objects are masked from ‘package:matrixStats’:\n",
      "\n",
      "    colAlls, colAnyNAs, colAnys, colAvgsPerRowSet, colCollapse,\n",
      "    colCounts, colCummaxs, colCummins, colCumprods, colCumsums,\n",
      "    colDiffs, colIQRDiffs, colIQRs, colLogSumExps, colMadDiffs,\n",
      "    colMads, colMaxs, colMeans2, colMedians, colMins, colOrderStats,\n",
      "    colProds, colQuantiles, colRanges, colRanks, colSdDiffs, colSds,\n",
      "    colSums2, colTabulates, colVarDiffs, colVars, colWeightedMads,\n",
      "    colWeightedMeans, colWeightedMedians, colWeightedSds,\n",
      "    colWeightedVars, rowAlls, rowAnyNAs, rowAnys, rowAvgsPerColSet,\n",
      "    rowCollapse, rowCounts, rowCummaxs, rowCummins, rowCumprods,\n",
      "    rowCumsums, rowDiffs, rowIQRDiffs, rowIQRs, rowLogSumExps,\n",
      "    rowMadDiffs, rowMads, rowMaxs, rowMeans2, rowMedians, rowMins,\n",
      "    rowOrderStats, rowProds, rowQuantiles, rowRanges, rowRanks,\n",
      "    rowSdDiffs, rowSds, rowSums2, rowTabulates, rowVarDiffs, rowVars,\n",
      "    rowWeightedMads, rowWeightedMeans, rowWeightedMedians,\n",
      "    rowWeightedSds, rowWeightedVars\n",
      "\n",
      "\n",
      "Loading required package: GenomicRanges\n",
      "\n",
      "Loading required package: stats4\n",
      "\n",
      "Loading required package: BiocGenerics\n",
      "\n",
      "Loading required package: parallel\n",
      "\n",
      "\n",
      "Attaching package: ‘BiocGenerics’\n",
      "\n",
      "\n",
      "The following objects are masked from ‘package:parallel’:\n",
      "\n",
      "    clusterApply, clusterApplyLB, clusterCall, clusterEvalQ,\n",
      "    clusterExport, clusterMap, parApply, parCapply, parLapply,\n",
      "    parLapplyLB, parRapply, parSapply, parSapplyLB\n",
      "\n",
      "\n",
      "The following objects are masked from ‘package:stats’:\n",
      "\n",
      "    IQR, mad, sd, var, xtabs\n",
      "\n",
      "\n",
      "The following objects are masked from ‘package:base’:\n",
      "\n",
      "    anyDuplicated, append, as.data.frame, basename, cbind, colnames,\n",
      "    dirname, do.call, duplicated, eval, evalq, Filter, Find, get, grep,\n",
      "    grepl, intersect, is.unsorted, lapply, Map, mapply, match, mget,\n",
      "    order, paste, pmax, pmax.int, pmin, pmin.int, Position, rank,\n",
      "    rbind, Reduce, rownames, sapply, setdiff, sort, table, tapply,\n",
      "    union, unique, unsplit, which.max, which.min\n",
      "\n",
      "\n",
      "Loading required package: S4Vectors\n",
      "\n",
      "\n",
      "Attaching package: ‘S4Vectors’\n",
      "\n",
      "\n",
      "The following object is masked from ‘package:Matrix’:\n",
      "\n",
      "    expand\n",
      "\n",
      "\n",
      "The following object is masked from ‘package:base’:\n",
      "\n",
      "    expand.grid\n",
      "\n",
      "\n",
      "Loading required package: IRanges\n",
      "\n",
      "Loading required package: GenomeInfoDb\n",
      "\n",
      "Loading required package: Biobase\n",
      "\n",
      "Welcome to Bioconductor\n",
      "\n",
      "    Vignettes contain introductory material; view with\n",
      "    'browseVignettes()'. To cite Bioconductor, see\n",
      "    'citation(\"Biobase\")', and for packages 'citation(\"pkgname\")'.\n",
      "\n",
      "\n",
      "\n",
      "Attaching package: ‘Biobase’\n",
      "\n",
      "\n",
      "The following object is masked from ‘package:MatrixGenerics’:\n",
      "\n",
      "    rowMedians\n",
      "\n",
      "\n",
      "The following objects are masked from ‘package:matrixStats’:\n",
      "\n",
      "    anyMissing, rowMedians\n",
      "\n",
      "\n"
     ]
    }
   ],
   "source": [
    "library(scran)"
   ]
  },
  {
   "cell_type": "code",
   "execution_count": 34,
   "id": "8fc60966",
   "metadata": {},
   "outputs": [],
   "source": [
    "full_singlet_sce =  SingleCellExperiment(list(counts=as.matrix(t(full_mat))))"
   ]
  },
  {
   "cell_type": "code",
   "execution_count": 45,
   "id": "2ef4e857",
   "metadata": {},
   "outputs": [],
   "source": [
    "full_singlet_sce <- computeSumFactors(full_singlet_sce,clusters=full_annot$precluster_sample)"
   ]
  },
  {
   "cell_type": "code",
   "execution_count": 51,
   "id": "46509b8e",
   "metadata": {},
   "outputs": [],
   "source": [
    "library(scuttle)\n",
    "full_singlet_sce <- logNormCounts(full_singlet_sce)"
   ]
  },
  {
   "cell_type": "code",
   "execution_count": 53,
   "id": "a1741005",
   "metadata": {},
   "outputs": [
    {
     "name": "stdout",
     "output_type": "stream",
     "text": [
      "Formal class 'SingleCellExperiment' [package \"SingleCellExperiment\"] with 9 slots\n",
      "  ..@ int_elementMetadata:Formal class 'DFrame' [package \"S4Vectors\"] with 6 slots\n",
      "  .. .. ..@ rownames       : NULL\n",
      "  .. .. ..@ nrows          : int 54894\n",
      "  .. .. ..@ listData       :List of 1\n",
      "  .. .. .. ..$ rowPairs:Formal class 'DFrame' [package \"S4Vectors\"] with 6 slots\n",
      "  .. .. .. .. .. ..@ rownames       : NULL\n",
      "  .. .. .. .. .. ..@ nrows          : int 54894\n",
      "  .. .. .. .. .. ..@ listData       : Named list()\n",
      "  .. .. .. .. .. ..@ elementType    : chr \"ANY\"\n",
      "  .. .. .. .. .. ..@ elementMetadata: NULL\n",
      "  .. .. .. .. .. ..@ metadata       : list()\n",
      "  .. .. ..@ elementType    : chr \"ANY\"\n",
      "  .. .. ..@ elementMetadata: NULL\n",
      "  .. .. ..@ metadata       : list()\n",
      "  ..@ int_colData        :Formal class 'DFrame' [package \"S4Vectors\"] with 6 slots\n",
      "  .. .. ..@ rownames       : NULL\n",
      "  .. .. ..@ nrows          : int 12243\n",
      "  .. .. ..@ listData       :List of 3\n",
      "  .. .. .. ..$ reducedDims:Formal class 'DFrame' [package \"S4Vectors\"] with 6 slots\n",
      "  .. .. .. .. .. ..@ rownames       : NULL\n",
      "  .. .. .. .. .. ..@ nrows          : int 12243\n",
      "  .. .. .. .. .. ..@ listData       : Named list()\n",
      "  .. .. .. .. .. ..@ elementType    : chr \"ANY\"\n",
      "  .. .. .. .. .. ..@ elementMetadata: NULL\n",
      "  .. .. .. .. .. ..@ metadata       : list()\n",
      "  .. .. .. ..$ altExps    :Formal class 'DFrame' [package \"S4Vectors\"] with 6 slots\n",
      "  .. .. .. .. .. ..@ rownames       : NULL\n",
      "  .. .. .. .. .. ..@ nrows          : int 12243\n",
      "  .. .. .. .. .. ..@ listData       : Named list()\n",
      "  .. .. .. .. .. ..@ elementType    : chr \"ANY\"\n",
      "  .. .. .. .. .. ..@ elementMetadata: NULL\n",
      "  .. .. .. .. .. ..@ metadata       : list()\n",
      "  .. .. .. ..$ colPairs   :Formal class 'DFrame' [package \"S4Vectors\"] with 6 slots\n",
      "  .. .. .. .. .. ..@ rownames       : NULL\n",
      "  .. .. .. .. .. ..@ nrows          : int 12243\n",
      "  .. .. .. .. .. ..@ listData       : Named list()\n",
      "  .. .. .. .. .. ..@ elementType    : chr \"ANY\"\n",
      "  .. .. .. .. .. ..@ elementMetadata: NULL\n",
      "  .. .. .. .. .. ..@ metadata       : list()\n",
      "  .. .. ..@ elementType    : chr \"ANY\"\n",
      "  .. .. ..@ elementMetadata: NULL\n",
      "  .. .. ..@ metadata       : list()\n",
      "  ..@ int_metadata       :List of 4\n",
      "  .. ..$ version          :Classes 'package_version', 'numeric_version'  hidden list of 1\n",
      "  .. .. ..$ : int [1:3] 1 12 0\n",
      "  .. ..$ spike_names      : chr(0) \n",
      "  .. ..$ size_factor_names: chr(0) \n",
      "  .. ..$ scater           :List of 1\n",
      "  .. .. ..$ pseudo.count: num 1\n",
      "  ..@ rowRanges          :Formal class 'CompressedGRangesList' [package \"GenomicRanges\"] with 5 slots\n",
      "  .. .. ..@ unlistData     :Formal class 'GRanges' [package \"GenomicRanges\"] with 7 slots\n",
      "  .. .. .. .. ..@ seqnames       :Formal class 'Rle' [package \"S4Vectors\"] with 4 slots\n",
      "  .. .. .. .. .. .. ..@ values         : Factor w/ 0 levels: \n",
      "  .. .. .. .. .. .. ..@ lengths        : int(0) \n",
      "  .. .. .. .. .. .. ..@ elementMetadata: NULL\n",
      "  .. .. .. .. .. .. ..@ metadata       : list()\n",
      "  .. .. .. .. ..@ ranges         :Formal class 'IRanges' [package \"IRanges\"] with 6 slots\n",
      "  .. .. .. .. .. .. ..@ start          : int(0) \n",
      "  .. .. .. .. .. .. ..@ width          : int(0) \n",
      "  .. .. .. .. .. .. ..@ NAMES          : NULL\n",
      "  .. .. .. .. .. .. ..@ elementType    : chr \"ANY\"\n",
      "  .. .. .. .. .. .. ..@ elementMetadata: NULL\n",
      "  .. .. .. .. .. .. ..@ metadata       : list()\n",
      "  .. .. .. .. ..@ strand         :Formal class 'Rle' [package \"S4Vectors\"] with 4 slots\n",
      "  .. .. .. .. .. .. ..@ values         : Factor w/ 3 levels \"+\",\"-\",\"*\": \n",
      "  .. .. .. .. .. .. ..@ lengths        : int(0) \n",
      "  .. .. .. .. .. .. ..@ elementMetadata: NULL\n",
      "  .. .. .. .. .. .. ..@ metadata       : list()\n",
      "  .. .. .. .. ..@ seqinfo        :Formal class 'Seqinfo' [package \"GenomeInfoDb\"] with 4 slots\n",
      "  .. .. .. .. .. .. ..@ seqnames   : chr(0) \n",
      "  .. .. .. .. .. .. ..@ seqlengths : int(0) \n",
      "  .. .. .. .. .. .. ..@ is_circular: logi(0) \n",
      "  .. .. .. .. .. .. ..@ genome     : chr(0) \n",
      "  .. .. .. .. ..@ elementMetadata:Formal class 'DFrame' [package \"S4Vectors\"] with 6 slots\n",
      "  .. .. .. .. .. .. ..@ rownames       : NULL\n",
      "  .. .. .. .. .. .. ..@ nrows          : int 0\n",
      "  .. .. .. .. .. .. ..@ listData       : Named list()\n",
      "  .. .. .. .. .. .. ..@ elementType    : chr \"ANY\"\n",
      "  .. .. .. .. .. .. ..@ elementMetadata: NULL\n",
      "  .. .. .. .. .. .. ..@ metadata       : list()\n",
      "  .. .. .. .. ..@ elementType    : chr \"ANY\"\n",
      "  .. .. .. .. ..@ metadata       : list()\n",
      "  .. .. ..@ elementMetadata:Formal class 'DFrame' [package \"S4Vectors\"] with 6 slots\n",
      "  .. .. .. .. ..@ rownames       : NULL\n",
      "  .. .. .. .. ..@ nrows          : int 54894\n",
      "  .. .. .. .. ..@ listData       : Named list()\n",
      "  .. .. .. .. ..@ elementType    : chr \"ANY\"\n",
      "  .. .. .. .. ..@ elementMetadata: NULL\n",
      "  .. .. .. .. ..@ metadata       : list()\n",
      "  .. .. ..@ elementType    : chr \"GRanges\"\n",
      "  .. .. ..@ metadata       : list()\n",
      "  .. .. ..@ partitioning   :Formal class 'PartitioningByEnd' [package \"IRanges\"] with 5 slots\n",
      "  .. .. .. .. ..@ end            : int [1:54894] 0 0 0 0 0 0 0 0 0 0 ...\n",
      "  .. .. .. .. ..@ NAMES          : NULL\n",
      "  .. .. .. .. ..@ elementType    : chr \"ANY\"\n",
      "  .. .. .. .. ..@ elementMetadata: NULL\n",
      "  .. .. .. .. ..@ metadata       : list()\n",
      "  ..@ colData            :Formal class 'DFrame' [package \"S4Vectors\"] with 6 slots\n",
      "  .. .. ..@ rownames       : NULL\n",
      "  .. .. ..@ nrows          : int 12243\n",
      "  .. .. ..@ listData       :List of 1\n",
      "  .. .. .. ..$ sizeFactor: num [1:12243] 3.72 5.91 1.45 4.3 5 ...\n",
      "  .. .. ..@ elementType    : chr \"ANY\"\n",
      "  .. .. ..@ elementMetadata: NULL\n",
      "  .. .. ..@ metadata       : list()\n",
      "  ..@ assays             :Formal class 'SimpleAssays' [package \"SummarizedExperiment\"] with 1 slot\n",
      "  .. .. ..@ data:Formal class 'SimpleList' [package \"S4Vectors\"] with 4 slots\n",
      "  .. .. .. .. ..@ listData       :List of 2\n",
      "  .. .. .. .. .. ..$ counts   : num [1:54894, 1:12243] 0 0 0 0 0 0 0 0 0 0 ...\n",
      "  .. .. .. .. .. ..$ logcounts: num [1:54894, 1:12243] 0 0 0 0 0 0 0 0 0 0 ...\n",
      "  .. .. .. .. ..@ elementType    : chr \"ANY\"\n",
      "  .. .. .. .. ..@ elementMetadata: NULL\n",
      "  .. .. .. .. ..@ metadata       : list()\n",
      "  ..@ NAMES              : NULL\n",
      "  ..@ elementMetadata    :Formal class 'DFrame' [package \"S4Vectors\"] with 6 slots\n",
      "  .. .. ..@ rownames       : NULL\n",
      "  .. .. ..@ nrows          : int 54894\n",
      "  .. .. ..@ listData       : Named list()\n",
      "  .. .. ..@ elementType    : chr \"ANY\"\n",
      "  .. .. ..@ elementMetadata: NULL\n",
      "  .. .. ..@ metadata       : list()\n",
      "  ..@ metadata           : list()\n"
     ]
    }
   ],
   "source": [
    "str(full_singlet_sce)"
   ]
  },
  {
   "cell_type": "code",
   "execution_count": 55,
   "id": "6e679192",
   "metadata": {},
   "outputs": [],
   "source": [
    "full_annot$size_factor =  full_singlet_sce@colData@listData$sizeFactor"
   ]
  },
  {
   "cell_type": "code",
   "execution_count": 61,
   "id": "4a984780",
   "metadata": {},
   "outputs": [],
   "source": [
    "full_normalized_exp = logcounts(full_singlet_sce)"
   ]
  },
  {
   "cell_type": "code",
   "execution_count": 72,
   "id": "232f9360",
   "metadata": {},
   "outputs": [],
   "source": [
    "sparse_norm_exp <- as(t(full_normalized_exp), \"sparseMatrix\")   "
   ]
  },
  {
   "cell_type": "code",
   "execution_count": 73,
   "id": "f77393e7",
   "metadata": {},
   "outputs": [
    {
     "data": {
      "text/plain": [
       "NULL"
      ]
     },
     "metadata": {},
     "output_type": "display_data"
    }
   ],
   "source": [
    "\n",
    "Matrix::writeMM(sparse_norm_exp,\"../paper_inter_data/full_normalized_exp.mtx\")"
   ]
  },
  {
   "cell_type": "code",
   "execution_count": 75,
   "id": "3c90ba4b",
   "metadata": {},
   "outputs": [],
   "source": [
    "\n",
    "write.csv(full_annot,\"../paper_inter_data/full_normalized_annot.csv\")"
   ]
  },
  {
   "cell_type": "code",
   "execution_count": 74,
   "id": "174e5e26",
   "metadata": {},
   "outputs": [
    {
     "data": {
      "text/html": [
       "<table class=\"dataframe\">\n",
       "<caption>A data.frame: 6 × 13</caption>\n",
       "<thead>\n",
       "\t<tr><th></th><th scope=col>Barcode</th><th scope=col>Unnamed..0</th><th scope=col>Sample</th><th scope=col>cxds_score</th><th scope=col>bcds_score</th><th scope=col>hybrid_score</th><th scope=col>precluster</th><th scope=col>nUMI</th><th scope=col>nGene</th><th scope=col>sample_short</th><th scope=col>unique_id</th><th scope=col>precluster_sample</th><th scope=col>size_factor</th></tr>\n",
       "\t<tr><th></th><th scope=col>&lt;chr&gt;</th><th scope=col>&lt;int&gt;</th><th scope=col>&lt;chr&gt;</th><th scope=col>&lt;dbl&gt;</th><th scope=col>&lt;dbl&gt;</th><th scope=col>&lt;dbl&gt;</th><th scope=col>&lt;int&gt;</th><th scope=col>&lt;int&gt;</th><th scope=col>&lt;int&gt;</th><th scope=col>&lt;chr&gt;</th><th scope=col>&lt;chr&gt;</th><th scope=col>&lt;chr&gt;</th><th scope=col>&lt;dbl&gt;</th></tr>\n",
       "</thead>\n",
       "<tbody>\n",
       "\t<tr><th scope=row>1</th><td>AAACCCAAGGATACGC</td><td>1</td><td>/projects/pfenninggroup/machineLearningForComputationalBiology/SingleCell/dorsal_horn/P0/Solo.out/</td><td>151402.55</td><td>0.10237467</td><td>0.2588378</td><td> 8</td><td>16448</td><td>5536</td><td>P0</td><td>AAACCCAAGGATACGC_P0</td><td>8_P0 </td><td>3.717381</td></tr>\n",
       "\t<tr><th scope=row>2</th><td>AAACCCAAGTAGGTTA</td><td>2</td><td>/projects/pfenninggroup/machineLearningForComputationalBiology/SingleCell/dorsal_horn/P0/Solo.out/</td><td>207183.18</td><td>0.07793731</td><td>0.3033265</td><td> 2</td><td>25551</td><td>7119</td><td>P0</td><td>AAACCCAAGTAGGTTA_P0</td><td>2_P0 </td><td>5.914232</td></tr>\n",
       "\t<tr><th scope=row>3</th><td>AAACCCAGTCGTATTG</td><td>3</td><td>/projects/pfenninggroup/machineLearningForComputationalBiology/SingleCell/dorsal_horn/P0/Solo.out/</td><td>166627.21</td><td>0.04132155</td><td>0.2116474</td><td> 4</td><td> 6860</td><td>3124</td><td>P0</td><td>AAACCCAGTCGTATTG_P0</td><td>4_P0 </td><td>1.446860</td></tr>\n",
       "\t<tr><th scope=row>4</th><td>AAACGAAAGGTGATAT</td><td>4</td><td>/projects/pfenninggroup/machineLearningForComputationalBiology/SingleCell/dorsal_horn/P0/Solo.out/</td><td>126728.56</td><td>0.04573638</td><td>0.1655719</td><td>11</td><td>19303</td><td>6062</td><td>P0</td><td>AAACGAAAGGTGATAT_P0</td><td>11_P0</td><td>4.297744</td></tr>\n",
       "\t<tr><th scope=row>5</th><td>AAACGAAGTACCAATC</td><td>5</td><td>/projects/pfenninggroup/machineLearningForComputationalBiology/SingleCell/dorsal_horn/P0/Solo.out/</td><td>345115.40</td><td>0.33340552</td><td>0.7579841</td><td> 9</td><td>21247</td><td>6543</td><td>P0</td><td>AAACGAAGTACCAATC_P0</td><td>9_P0 </td><td>5.002229</td></tr>\n",
       "\t<tr><th scope=row>6</th><td>AAACGAAGTATCGAGG</td><td>6</td><td>/projects/pfenninggroup/machineLearningForComputationalBiology/SingleCell/dorsal_horn/P0/Solo.out/</td><td> 82213.84</td><td>0.04133894</td><td>0.1039940</td><td> 0</td><td> 5786</td><td>2457</td><td>P0</td><td>AAACGAAGTATCGAGG_P0</td><td>0_P0 </td><td>1.082313</td></tr>\n",
       "</tbody>\n",
       "</table>\n"
      ],
      "text/latex": [
       "A data.frame: 6 × 13\n",
       "\\begin{tabular}{r|lllllllllllll}\n",
       "  & Barcode & Unnamed..0 & Sample & cxds\\_score & bcds\\_score & hybrid\\_score & precluster & nUMI & nGene & sample\\_short & unique\\_id & precluster\\_sample & size\\_factor\\\\\n",
       "  & <chr> & <int> & <chr> & <dbl> & <dbl> & <dbl> & <int> & <int> & <int> & <chr> & <chr> & <chr> & <dbl>\\\\\n",
       "\\hline\n",
       "\t1 & AAACCCAAGGATACGC & 1 & /projects/pfenninggroup/machineLearningForComputationalBiology/SingleCell/dorsal\\_horn/P0/Solo.out/ & 151402.55 & 0.10237467 & 0.2588378 &  8 & 16448 & 5536 & P0 & AAACCCAAGGATACGC\\_P0 & 8\\_P0  & 3.717381\\\\\n",
       "\t2 & AAACCCAAGTAGGTTA & 2 & /projects/pfenninggroup/machineLearningForComputationalBiology/SingleCell/dorsal\\_horn/P0/Solo.out/ & 207183.18 & 0.07793731 & 0.3033265 &  2 & 25551 & 7119 & P0 & AAACCCAAGTAGGTTA\\_P0 & 2\\_P0  & 5.914232\\\\\n",
       "\t3 & AAACCCAGTCGTATTG & 3 & /projects/pfenninggroup/machineLearningForComputationalBiology/SingleCell/dorsal\\_horn/P0/Solo.out/ & 166627.21 & 0.04132155 & 0.2116474 &  4 &  6860 & 3124 & P0 & AAACCCAGTCGTATTG\\_P0 & 4\\_P0  & 1.446860\\\\\n",
       "\t4 & AAACGAAAGGTGATAT & 4 & /projects/pfenninggroup/machineLearningForComputationalBiology/SingleCell/dorsal\\_horn/P0/Solo.out/ & 126728.56 & 0.04573638 & 0.1655719 & 11 & 19303 & 6062 & P0 & AAACGAAAGGTGATAT\\_P0 & 11\\_P0 & 4.297744\\\\\n",
       "\t5 & AAACGAAGTACCAATC & 5 & /projects/pfenninggroup/machineLearningForComputationalBiology/SingleCell/dorsal\\_horn/P0/Solo.out/ & 345115.40 & 0.33340552 & 0.7579841 &  9 & 21247 & 6543 & P0 & AAACGAAGTACCAATC\\_P0 & 9\\_P0  & 5.002229\\\\\n",
       "\t6 & AAACGAAGTATCGAGG & 6 & /projects/pfenninggroup/machineLearningForComputationalBiology/SingleCell/dorsal\\_horn/P0/Solo.out/ &  82213.84 & 0.04133894 & 0.1039940 &  0 &  5786 & 2457 & P0 & AAACGAAGTATCGAGG\\_P0 & 0\\_P0  & 1.082313\\\\\n",
       "\\end{tabular}\n"
      ],
      "text/markdown": [
       "\n",
       "A data.frame: 6 × 13\n",
       "\n",
       "| <!--/--> | Barcode &lt;chr&gt; | Unnamed..0 &lt;int&gt; | Sample &lt;chr&gt; | cxds_score &lt;dbl&gt; | bcds_score &lt;dbl&gt; | hybrid_score &lt;dbl&gt; | precluster &lt;int&gt; | nUMI &lt;int&gt; | nGene &lt;int&gt; | sample_short &lt;chr&gt; | unique_id &lt;chr&gt; | precluster_sample &lt;chr&gt; | size_factor &lt;dbl&gt; |\n",
       "|---|---|---|---|---|---|---|---|---|---|---|---|---|---|\n",
       "| 1 | AAACCCAAGGATACGC | 1 | /projects/pfenninggroup/machineLearningForComputationalBiology/SingleCell/dorsal_horn/P0/Solo.out/ | 151402.55 | 0.10237467 | 0.2588378 |  8 | 16448 | 5536 | P0 | AAACCCAAGGATACGC_P0 | 8_P0  | 3.717381 |\n",
       "| 2 | AAACCCAAGTAGGTTA | 2 | /projects/pfenninggroup/machineLearningForComputationalBiology/SingleCell/dorsal_horn/P0/Solo.out/ | 207183.18 | 0.07793731 | 0.3033265 |  2 | 25551 | 7119 | P0 | AAACCCAAGTAGGTTA_P0 | 2_P0  | 5.914232 |\n",
       "| 3 | AAACCCAGTCGTATTG | 3 | /projects/pfenninggroup/machineLearningForComputationalBiology/SingleCell/dorsal_horn/P0/Solo.out/ | 166627.21 | 0.04132155 | 0.2116474 |  4 |  6860 | 3124 | P0 | AAACCCAGTCGTATTG_P0 | 4_P0  | 1.446860 |\n",
       "| 4 | AAACGAAAGGTGATAT | 4 | /projects/pfenninggroup/machineLearningForComputationalBiology/SingleCell/dorsal_horn/P0/Solo.out/ | 126728.56 | 0.04573638 | 0.1655719 | 11 | 19303 | 6062 | P0 | AAACGAAAGGTGATAT_P0 | 11_P0 | 4.297744 |\n",
       "| 5 | AAACGAAGTACCAATC | 5 | /projects/pfenninggroup/machineLearningForComputationalBiology/SingleCell/dorsal_horn/P0/Solo.out/ | 345115.40 | 0.33340552 | 0.7579841 |  9 | 21247 | 6543 | P0 | AAACGAAGTACCAATC_P0 | 9_P0  | 5.002229 |\n",
       "| 6 | AAACGAAGTATCGAGG | 6 | /projects/pfenninggroup/machineLearningForComputationalBiology/SingleCell/dorsal_horn/P0/Solo.out/ |  82213.84 | 0.04133894 | 0.1039940 |  0 |  5786 | 2457 | P0 | AAACGAAGTATCGAGG_P0 | 0_P0  | 1.082313 |\n",
       "\n"
      ],
      "text/plain": [
       "  Barcode          Unnamed..0\n",
       "1 AAACCCAAGGATACGC 1         \n",
       "2 AAACCCAAGTAGGTTA 2         \n",
       "3 AAACCCAGTCGTATTG 3         \n",
       "4 AAACGAAAGGTGATAT 4         \n",
       "5 AAACGAAGTACCAATC 5         \n",
       "6 AAACGAAGTATCGAGG 6         \n",
       "  Sample                                                                                            \n",
       "1 /projects/pfenninggroup/machineLearningForComputationalBiology/SingleCell/dorsal_horn/P0/Solo.out/\n",
       "2 /projects/pfenninggroup/machineLearningForComputationalBiology/SingleCell/dorsal_horn/P0/Solo.out/\n",
       "3 /projects/pfenninggroup/machineLearningForComputationalBiology/SingleCell/dorsal_horn/P0/Solo.out/\n",
       "4 /projects/pfenninggroup/machineLearningForComputationalBiology/SingleCell/dorsal_horn/P0/Solo.out/\n",
       "5 /projects/pfenninggroup/machineLearningForComputationalBiology/SingleCell/dorsal_horn/P0/Solo.out/\n",
       "6 /projects/pfenninggroup/machineLearningForComputationalBiology/SingleCell/dorsal_horn/P0/Solo.out/\n",
       "  cxds_score bcds_score hybrid_score precluster nUMI  nGene sample_short\n",
       "1 151402.55  0.10237467 0.2588378     8         16448 5536  P0          \n",
       "2 207183.18  0.07793731 0.3033265     2         25551 7119  P0          \n",
       "3 166627.21  0.04132155 0.2116474     4          6860 3124  P0          \n",
       "4 126728.56  0.04573638 0.1655719    11         19303 6062  P0          \n",
       "5 345115.40  0.33340552 0.7579841     9         21247 6543  P0          \n",
       "6  82213.84  0.04133894 0.1039940     0          5786 2457  P0          \n",
       "  unique_id           precluster_sample size_factor\n",
       "1 AAACCCAAGGATACGC_P0 8_P0              3.717381   \n",
       "2 AAACCCAAGTAGGTTA_P0 2_P0              5.914232   \n",
       "3 AAACCCAGTCGTATTG_P0 4_P0              1.446860   \n",
       "4 AAACGAAAGGTGATAT_P0 11_P0             4.297744   \n",
       "5 AAACGAAGTACCAATC_P0 9_P0              5.002229   \n",
       "6 AAACGAAGTATCGAGG_P0 0_P0              1.082313   "
      ]
     },
     "metadata": {},
     "output_type": "display_data"
    }
   ],
   "source": []
  },
  {
   "cell_type": "code",
   "execution_count": null,
   "id": "7c66b054",
   "metadata": {},
   "outputs": [],
   "source": []
  }
 ],
 "metadata": {
  "kernelspec": {
   "display_name": "R",
   "language": "R",
   "name": "ir"
  },
  "language_info": {
   "codemirror_mode": "r",
   "file_extension": ".r",
   "mimetype": "text/x-r-source",
   "name": "R",
   "pygments_lexer": "r",
   "version": "4.0.5"
  }
 },
 "nbformat": 4,
 "nbformat_minor": 5
}
